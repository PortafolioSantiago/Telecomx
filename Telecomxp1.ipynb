{
 "cells": [
  {
   "cell_type": "markdown",
   "metadata": {},
   "source": [
    "# 📊 **TELECOM X** – Análisis de Evasión de Clientes\n",
    "\n",
    "\n",
    "Has sido contratado como **asistente de análisis de datos** en *Telecom X* y formarás parte del equipo del proyecto **\"Churn de Clientes\"**. \n",
    "\n",
    "La empresa enfrenta una **alta tasa de cancelaciones** de clientes y necesita comprender los factores que contribuyen a la pérdida de usuarios. Tu desafío será:\n",
    "\n",
    "- 📥 **Recopilar** y **preparar** los datos.\n",
    "- 🧹 **Procesar** los datos utilizando herramientas de Python.\n",
    "- 📈 **Analizar** los datos para extraer información valiosa que permita tomar decisiones informadas.\n",
    "\n",
    "Este análisis será clave para que el equipo de **Data Science** pueda:\n",
    "\n",
    "- Construir modelos predictivos de cancelación de clientes.\n",
    "- Desarrollar estrategias para reducir la tasa de evasión.\n",
    "\n",
    "Tu trabajo será esencial para ayudar a la empresa a mejorar la **retención de clientes** y optimizar sus decisiones estratégicas.\n",
    "\n",
    "\n"
   ]
  },
  {
   "cell_type": "code",
   "execution_count": 3,
   "id": "a4471c81",
   "metadata": {},
   "outputs": [],
   "source": [
    "import pandas as pd\n",
    "import numpy as np\n",
    "import matplotlib"
   ]
  },
  {
   "cell_type": "code",
   "execution_count": null,
   "id": "12d8099b",
   "metadata": {},
   "outputs": [],
   "source": []
  }
 ],
 "metadata": {
  "kernelspec": {
   "display_name": "venv",
   "language": "python",
   "name": "python3"
  },
  "language_info": {
   "codemirror_mode": {
    "name": "ipython",
    "version": 3
   },
   "file_extension": ".py",
   "mimetype": "text/x-python",
   "name": "python",
   "nbconvert_exporter": "python",
   "pygments_lexer": "ipython3",
   "version": "3.12.0"
  }
 },
 "nbformat": 4,
 "nbformat_minor": 5
}
